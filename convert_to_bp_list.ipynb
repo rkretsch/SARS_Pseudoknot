{
 "cells": [
  {
   "cell_type": "code",
   "execution_count": 116,
   "id": "e9d756e2",
   "metadata": {},
   "outputs": [],
   "source": [
    "# main function: converts a file of output from linear-partition/threshknot to bp list format\n",
    "    # format: three columns, first is sequence number, second is base pair, third is number of base pair it is paired with\n",
    "# args - filename of linear partition input\n",
    "# will return a list containing lists of each base pair predicted by threshknot\n",
    "# output will be written to a txt file with the name \"bp_list.txt\"\n",
    "\n",
    "def convert_to_bp_list(file_name):\n",
    "    import pandas as pd\n",
    "    df = pd.read_csv(file_name, sep = \" \", header = None)\n",
    "    cols = [0, 2]\n",
    "    df_cols_with_zero = df[cols]\n",
    "    df_cols_with_repeats = df_cols_with_zero.loc[df_cols_with_zero[2] != 0]\n",
    "    df_cols = df_cols_with_repeats.loc[df_cols_with_repeats[0] < df_cols_with_repeats[2]]\n",
    "    df_bp_list = df_cols.values.tolist()\n",
    "    df_bp_list_string = str(df_bp_list)\n",
    "    file = open(\"bp_list.txt\", \"w\")\n",
    "    file.writelines(df_bp_list_string)\n",
    "    file.close()"
   ]
  },
  {
   "cell_type": "code",
   "execution_count": 2,
   "id": "b86817ba",
   "metadata": {},
   "outputs": [],
   "source": []
  },
  {
   "cell_type": "code",
   "execution_count": null,
   "id": "761062d4",
   "metadata": {},
   "outputs": [],
   "source": []
  },
  {
   "cell_type": "code",
   "execution_count": null,
   "id": "2f0f1ce1",
   "metadata": {},
   "outputs": [],
   "source": []
  },
  {
   "cell_type": "code",
   "execution_count": 42,
   "id": "38ae750f",
   "metadata": {},
   "outputs": [],
   "source": []
  },
  {
   "cell_type": "code",
   "execution_count": 50,
   "id": "ef28b0b5",
   "metadata": {},
   "outputs": [],
   "source": []
  },
  {
   "cell_type": "code",
   "execution_count": null,
   "id": "777d5592",
   "metadata": {},
   "outputs": [],
   "source": []
  },
  {
   "cell_type": "code",
   "execution_count": null,
   "id": "0cedb9c8",
   "metadata": {},
   "outputs": [],
   "source": []
  },
  {
   "cell_type": "code",
   "execution_count": null,
   "id": "b85aa594",
   "metadata": {},
   "outputs": [],
   "source": []
  },
  {
   "cell_type": "code",
   "execution_count": null,
   "id": "5df99c72",
   "metadata": {},
   "outputs": [],
   "source": []
  },
  {
   "cell_type": "code",
   "execution_count": 108,
   "id": "a2b2bcab",
   "metadata": {},
   "outputs": [],
   "source": []
  },
  {
   "cell_type": "code",
   "execution_count": 109,
   "id": "3f77a16f",
   "metadata": {},
   "outputs": [],
   "source": []
  },
  {
   "cell_type": "code",
   "execution_count": null,
   "id": "837f40bf",
   "metadata": {},
   "outputs": [],
   "source": []
  },
  {
   "cell_type": "code",
   "execution_count": null,
   "id": "d0e4961b",
   "metadata": {},
   "outputs": [],
   "source": []
  }
 ],
 "metadata": {
  "kernelspec": {
   "display_name": "Python 3",
   "language": "python",
   "name": "python3"
  },
  "language_info": {
   "codemirror_mode": {
    "name": "ipython",
    "version": 3
   },
   "file_extension": ".py",
   "mimetype": "text/x-python",
   "name": "python",
   "nbconvert_exporter": "python",
   "pygments_lexer": "ipython3",
   "version": "3.8.8"
  }
 },
 "nbformat": 4,
 "nbformat_minor": 5
}
