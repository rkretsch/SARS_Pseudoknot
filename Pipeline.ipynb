{
 "cells": [
  {
   "cell_type": "code",
   "execution_count": 40,
   "id": "e8456814",
   "metadata": {},
   "outputs": [],
   "source": [
    "# read fasta sequence and convert to string\n",
    "\n",
    "from Bio import SeqIO\n",
    "\n",
    "def get_seq(filename):\n",
    "    record = SeqIO.read(filename, \"fasta\")\n",
    "    full_seq = str(record.seq)\n",
    "    return full_seq\n",
    "\n",
    "# divide string into list of sliding windows of appropriate length\n",
    "\n",
    "def get_sliding_windows(full_seq, step, window):\n",
    "    windows = []\n",
    "    for i in range(0, len(full_seq)+1, step):\n",
    "        new_windows = full_seq[i:i+window]\n",
    "        if len(new_windows) == window:\n",
    "            windows.append(new_windows)\n",
    "    return windows\n",
    "\n",
    "# for loop to run bpps on each item in the list\n",
    "\n",
    "import arnie\n",
    "from arnie.bpps import bpps\n",
    "from arnie.pfunc import pfunc \n",
    "\n",
    "def get_bpps_list(windows):\n",
    "    bpps_list = []\n",
    "    for i in windows:\n",
    "        new_bpps = bpps(i, package='contrafold', linear=True, threshknot=True)\n",
    "        bpps_list.append(new_bpps)\n",
    "    return bpps_list\n",
    "\n",
    "# for loop to run MEA on each item in the list to convert to dotbracket structure\n",
    "\n",
    "from arnie.mea.mea import MEA\n",
    "from arnie.mea.mea_utils import *\n",
    "\n",
    "def get_dotbracket_list(bpps_list):\n",
    "    dotbracket_list = []\n",
    "    for i in bpps_list:\n",
    "        new_dotbracket = MEA(i, run_probknot_heuristic=True, theta=0.3)\n",
    "        new_structure = new_dotbracket.structure\n",
    "        dotbracket_list.append(new_structure)\n",
    "    return dotbracket_list\n",
    "\n",
    "# need a function to go over each dotbracket structure and determine whether it is a pseudoknot or not\n",
    "\n"
   ]
  },
  {
   "cell_type": "code",
   "execution_count": 29,
   "id": "48b2ed6d",
   "metadata": {},
   "outputs": [],
   "source": [
    "SARS_seq = get_seq(\"SARS_CoV2_reference.fasta\")\n",
    "SARS_windows = get_sliding_windows(SARS_seq, step=100, window=300)\n",
    "SARS_bpps_list = get_bpps_list(SARS_windows)"
   ]
  },
  {
   "cell_type": "code",
   "execution_count": 41,
   "id": "86d4ec5f",
   "metadata": {},
   "outputs": [],
   "source": [
    "SARS_seq_3UTR = get_seq(\"SARS_last_1000.fasta\")\n",
    "SARS_3UTR_windows = get_sliding_windows(SARS_seq_3UTR, step = 100, window = 300)\n",
    "SARS_3UTR_bpps = get_bpps_list(SARS_3UTR_windows)\n",
    "SARS_3UTR_dotbracket = get_dotbracket_list(SARS_3UTR_bpps)"
   ]
  },
  {
   "cell_type": "code",
   "execution_count": null,
   "id": "685c0ef2",
   "metadata": {},
   "outputs": [],
   "source": []
  },
  {
   "cell_type": "code",
   "execution_count": null,
   "id": "2fc41400",
   "metadata": {},
   "outputs": [],
   "source": []
  }
 ],
 "metadata": {
  "kernelspec": {
   "display_name": "Python 3",
   "language": "python",
   "name": "python3"
  },
  "language_info": {
   "codemirror_mode": {
    "name": "ipython",
    "version": 3
   },
   "file_extension": ".py",
   "mimetype": "text/x-python",
   "name": "python",
   "nbconvert_exporter": "python",
   "pygments_lexer": "ipython3",
   "version": "3.8.8"
  }
 },
 "nbformat": 4,
 "nbformat_minor": 5
}
