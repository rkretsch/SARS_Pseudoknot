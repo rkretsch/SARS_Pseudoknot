{
 "cells": [
  {
   "cell_type": "code",
   "execution_count": 17,
   "id": "e8456814",
   "metadata": {},
   "outputs": [],
   "source": [
    "# read fasta sequence and convert to string\n",
    "\n",
    "from Bio import SeqIO\n",
    "\n",
    "def get_seq(seq_filename):\n",
    "    record = SeqIO.read(seq_filename, \"fasta\")\n",
    "    full_seq = str(record.seq)\n",
    "    return full_seq\n",
    "\n",
    "# divide string into list of sliding windows of appropriate length\n",
    "\n",
    "def get_sliding_windows(full_seq, step, window):\n",
    "    windows = []\n",
    "    for i in range(0, len(full_seq)+1, step):\n",
    "        new_windows = full_seq[i:i+window]\n",
    "        if len(new_windows) == window:\n",
    "            windows.append(new_windows)\n",
    "    return windows\n",
    "\n",
    "# for loop to run bpps on each item in the list\n",
    "\n",
    "import arnie\n",
    "from arnie.bpps import bpps\n",
    "from arnie.pfunc import pfunc \n",
    "\n",
    "def get_bpps_list(windows):\n",
    "    bpps_list = []\n",
    "    for i in windows:\n",
    "        new_bpps = bpps(i, package='contrafold', linear=True, threshknot=True)\n",
    "        bpps_list.append(new_bpps)\n",
    "    return bpps_list\n",
    "\n",
    "# for loop to run MEA on each item to convert bpps to bp_list\n",
    "\n",
    "from arnie.mea.mea import MEA\n",
    "from arnie.mea.mea_utils import *\n",
    "\n",
    "def get_bp_list(bpps_list):\n",
    "    bp_list = []\n",
    "    for i in bpps_list:\n",
    "        new_bp = MEA(i, run_probknot_heuristic=True, theta=0.3)\n",
    "        new_bp_list = new_bp.MEA_bp_list\n",
    "        bp_list.append(new_bp_list)\n",
    "    return bp_list\n",
    "\n",
    "# function to go over each bp_list and check whether or not it is a pseudoknot\n",
    "\n",
    "def is_PK(bp_list):\n",
    "    '''checks if a given bp_list represents a PK\n",
    "    Args:\n",
    "        bp_list: of list of tuples where the tuples are the indeces of the bp in increasing order (bp[0]<bp[1])\n",
    "    \n",
    "    returns:\n",
    "        True if it is a psuedoknot\n",
    "    '''\n",
    "    for i in bp_list:\n",
    "        if bp_list == []:\n",
    "            return False\n",
    "        else:\n",
    "            current_bp = bp_list[0]\n",
    "            for bp in bp_list[1:]:\n",
    "                if ((current_bp[0] < bp[0] and bp[0] < current_bp[1] and current_bp[1] < bp[1])\n",
    "                    or (current_bp[0] > bp[0] and current_bp[0] < bp[1] and bp[1] < current_bp[1])):\n",
    "                    return True\n",
    "            return is_PK(bp_list[1:])\n"
   ]
  },
  {
   "cell_type": "code",
   "execution_count": null,
   "id": "48b2ed6d",
   "metadata": {},
   "outputs": [],
   "source": []
  },
  {
   "cell_type": "code",
   "execution_count": null,
   "id": "86d4ec5f",
   "metadata": {},
   "outputs": [],
   "source": []
  },
  {
   "cell_type": "code",
   "execution_count": 20,
   "id": "685c0ef2",
   "metadata": {},
   "outputs": [],
   "source": [
    "def get_dotbracket_list(bpps_list):\n",
    "    dotbracket_list = []\n",
    "    for i in bpps_list:\n",
    "        new_dotbracket = MEA(i, run_probknot_heuristic=True, theta=0.3)\n",
    "        new_structure = new_dotbracket.structure\n",
    "        dotbracket_list.append(new_structure)\n",
    "    return dotbracket_list"
   ]
  },
  {
   "cell_type": "code",
   "execution_count": 30,
   "id": "2fc41400",
   "metadata": {},
   "outputs": [],
   "source": [
    "from Bio import SeqIO\n",
    "import arnie\n",
    "from arnie.bpps import bpps\n",
    "from arnie.pfunc import pfunc\n",
    "from arnie.mea.mea import MEA\n",
    "from arnie.mea.mea_utils import *\n",
    "\n",
    "def get_pseudoknots(seq_filename, step, window):\n",
    "        \n",
    "        full_seq = get_seq(seq_filename)\n",
    "        \n",
    "        windows = get_sliding_windows(full_seq, step=step, window=window)\n",
    "        \n",
    "        bpps_list = get_bpps_list(windows)\n",
    "        \n",
    "        bp_list = get_bp_list(bpps_list)\n",
    "        \n",
    "        PK_list = is_PK(bp_list)\n",
    "        \n",
    "        return PK_list"
   ]
  },
  {
   "cell_type": "code",
   "execution_count": 31,
   "id": "4cf1bbde",
   "metadata": {},
   "outputs": [
    {
     "data": {
      "text/plain": [
       "True"
      ]
     },
     "execution_count": 31,
     "metadata": {},
     "output_type": "execute_result"
    }
   ],
   "source": [
    "get_pseudoknots(\"SARS_last_1000.fasta\", step = 100, window = 300)"
   ]
  },
  {
   "cell_type": "code",
   "execution_count": null,
   "id": "5ab6230f",
   "metadata": {},
   "outputs": [],
   "source": []
  }
 ],
 "metadata": {
  "kernelspec": {
   "display_name": "Python 3",
   "language": "python",
   "name": "python3"
  },
  "language_info": {
   "codemirror_mode": {
    "name": "ipython",
    "version": 3
   },
   "file_extension": ".py",
   "mimetype": "text/x-python",
   "name": "python",
   "nbconvert_exporter": "python",
   "pygments_lexer": "ipython3",
   "version": "3.8.8"
  }
 },
 "nbformat": 4,
 "nbformat_minor": 5
}
