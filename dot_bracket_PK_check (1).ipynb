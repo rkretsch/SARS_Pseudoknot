{
 "cells": [
  {
   "cell_type": "code",
   "execution_count": 69,
   "id": "6c34d80d-ea79-4f53-9752-8be298c717da",
   "metadata": {},
   "outputs": [],
   "source": [
    "## MAIN function\n",
    "\n",
    "def dot_bracket(seq, bp_list):\n",
    "    ''' dot_bracket takes a list of base pairs and converts to dot bracket notation\n",
    "    \n",
    "    args:\n",
    "        seq: sequence of interest as a string\n",
    "        bp_list: of list of tuples where the tuples are the indeces of the bp in increasing order (bp[0]<bp[1])\n",
    "        \n",
    "    output:\n",
    "        prints the sequence and the dot bracket notation\n",
    "        \n",
    "    returns:\n",
    "        returns a string with the dot bracket notation\n",
    "    '''\n",
    "    dot_bracket = \".\"*len(seq)\n",
    "    \n",
    "    if not is_PK(bp_list):\n",
    "        for bp in bp_list:\n",
    "            dot_bracket = dot_bracket[:bp[0]]+\"(\"+dot_bracket[bp[0]+1:bp[1]]+ \")\"+dot_bracket[bp[1]+1:]\n",
    "\n",
    "    else:\n",
    "        brackets = [(\"(\",\")\"),(\"[\",\"]\"),(\"{\",\"}\"),(\"<\",\">\")]\n",
    "        groups = group_into_non_conflicting_bp(is_PK_and_get_list_conflicts(bp_list))\n",
    "        if len(groups) > len(brackets):\n",
    "            print(\"WARNING: PK too complex\")\n",
    "        for group,bracket in zip(groups,brackets):\n",
    "            for bp in group:\n",
    "                dot_bracket = dot_bracket[:bp[0]]+bracket[0]+dot_bracket[bp[0]+1:bp[1]]+bracket[1]+dot_bracket[bp[1]+1:]\n",
    "    \n",
    "    print(seq)\n",
    "    print(dot_bracket)\n",
    "    return dot_bracket  "
   ]
  },
  {
   "cell_type": "code",
   "execution_count": 70,
   "id": "178ae4cd-8c1e-403a-ad3d-4da4d6477206",
   "metadata": {},
   "outputs": [],
   "source": [
    "## HELPER functions\n",
    "\n",
    "def is_PK(bp_list):\n",
    "    '''checks if a given bp_list represents a PK\n",
    "    Args:\n",
    "        bp_list: of list of tuples where the tuples are the indeces of the bp in increasing order (bp[0]<bp[1])\n",
    "    \n",
    "    returns:\n",
    "        True if it is a psuedoknot\n",
    "    '''\n",
    "    if bp_list == []:\n",
    "        return False\n",
    "    else:\n",
    "        current_bp = bp_list[0]\n",
    "        for bp in bp_list[1:]:\n",
    "            if ((current_bp[0] < bp[0] and bp[0] < current_bp[1] and current_bp[1] < bp[1])\n",
    "                or (current_bp[0] > bp[0] and current_bp[0] < bp[1] and bp[1] < current_bp[1])):\n",
    "                return True\n",
    "        return is_PK(bp_list[1:])\n",
    "\n",
    "def is_PK_and_get_list_conflicts(bp_list):\n",
    "    '''given a bp_list gives the list of conflicts bp-s which indicate PK structure\n",
    "    Args:\n",
    "        bp_list: of list of tuples where the tuples are the indeces of the bp in increasing order (bp[0]<bp[1])\n",
    "    \n",
    "    returns:\n",
    "        List of conflicting basepairs, where conflicting is pairs of base pairs that are intertwined.\n",
    "    '''    if len(bp_list) <= 1:\n",
    "        return []\n",
    "    else:\n",
    "        current_bp = bp_list[0]\n",
    "        conflicts = []\n",
    "        for bp in bp_list[1:]:\n",
    "            if ((current_bp[0] < bp[0] and bp[0] < current_bp[1] and current_bp[1] < bp[1])\n",
    "                or (current_bp[0] > bp[0] and current_bp[0] < bp[1] and bp[1] < current_bp[1])):\n",
    "                conflicts.append((current_bp,bp))\n",
    "        return conflicts + is_PK_and_get_list_conflicts(bp_list[1:])\n",
    "    \n",
    "def group_into_non_conflicting_bp(conflict_list):\n",
    "    ''' given a conflict list from is_PK_and_get_list_conflicts, group basepairs into groups that do not conflict\n",
    "    \n",
    "    Args\n",
    "        conflict_list: list of pairs of base_pairs that are intertwined basepairs\n",
    "        \n",
    "    Returns:\n",
    "        groups of baspairs that are not intertwined\n",
    "    '''\n",
    "    non_redudant_bp_list = get_non_redudant_bp_list(conflict_list)\n",
    "    groups = []\n",
    "    while non_redudant_bp_list != []:\n",
    "        current_bp = non_redudant_bp_list[0]\n",
    "        current_bp_conflicts = []\n",
    "        for conflict in conflict_list:\n",
    "            if current_bp == conflict[0]:\n",
    "                current_bp_conflicts.append(conflict[1])\n",
    "            elif current_bp == conflict[1]:\n",
    "                current_bp_conflicts.append(conflict[0])\n",
    "        group = [bp for bp in non_redudant_bp_list if bp not in current_bp_conflicts]\n",
    "        groups.append(group)\n",
    "        non_redudant_bp_list = current_bp_conflicts\n",
    "        conflict_list = [conflict for conflict in conflict_list if conflict[0] not in group and conflict[1] not in group]\n",
    "    return groups\n",
    "    \n",
    "def get_non_redudant_bp_list(conflict_list):\n",
    "    ''' given a conflict list get the list of nonredundant basepairs this list has\n",
    "    \n",
    "    Args:\n",
    "        conflict_list: list of pairs of base_pairs that are intertwined basepairs\n",
    "    returns:\n",
    "        list of basepairs in conflict list without repeats\n",
    "\n",
    "    '''\n",
    "    non_redudant_bp_list = []\n",
    "    for conflict in conflict_list:\n",
    "        if conflict[0] not in non_redudant_bp_list:\n",
    "            non_redudant_bp_list.append(conflict[0])\n",
    "        if conflict[1] not in non_redudant_bp_list:\n",
    "            non_redudant_bp_list.append(conflict[1])\n",
    "    return non_redudant_bp_list\n"
   ]
  },
  {
   "cell_type": "code",
   "execution_count": 71,
   "id": "60277aed-bfe8-42cd-8748-7c66bc0b976e",
   "metadata": {},
   "outputs": [],
   "source": [
    "SL = [(0,10),(1,9),(2,8),(3,7)]\n",
    "SL2 = [(0,5),(1,4),(6,10)]\n",
    "PK = [(0,6),(1,5),(2,9),(3,8)]"
   ]
  },
  {
   "cell_type": "code",
   "execution_count": 72,
   "id": "6e19003d-7cc3-4c5c-a793-5f60d53eb66a",
   "metadata": {},
   "outputs": [
    {
     "name": "stdout",
     "output_type": "stream",
     "text": [
      "False\n",
      "False\n",
      "True\n"
     ]
    }
   ],
   "source": [
    "print(is_PK(SL))\n",
    "print(is_PK(SL2))\n",
    "print(is_PK(PK))"
   ]
  },
  {
   "cell_type": "code",
   "execution_count": 73,
   "id": "ddb6ea87-9179-4c27-b449-3dab989bcbdd",
   "metadata": {},
   "outputs": [
    {
     "name": "stdout",
     "output_type": "stream",
     "text": [
      "[((0, 6), (2, 9)), ((0, 6), (3, 8)), ((1, 5), (2, 9)), ((1, 5), (3, 8))]\n"
     ]
    }
   ],
   "source": [
    "print(is_PK_and_get_list_conflicts(PK))"
   ]
  },
  {
   "cell_type": "code",
   "execution_count": 74,
   "id": "241e13aa-be3d-4195-9bce-2f056747e2e8",
   "metadata": {},
   "outputs": [
    {
     "name": "stdout",
     "output_type": "stream",
     "text": [
      "AAAAAAAAAAA\n",
      "((((...))))\n",
      "AAAAAAAAAAA\n",
      "((..))(...)\n",
      "AAAAAAAAAAA\n",
      "(([[.)).]].\n"
     ]
    },
    {
     "data": {
      "text/plain": [
       "'(([[.)).]].'"
      ]
     },
     "execution_count": 74,
     "metadata": {},
     "output_type": "execute_result"
    }
   ],
   "source": [
    "dot_bracket(\"AAAAAAAAAAA\",SL)\n",
    "dot_bracket(\"AAAAAAAAAAA\",SL2)\n",
    "dot_bracket(\"AAAAAAAAAAA\",PK)\n"
   ]
  }
 ],
 "metadata": {
  "kernelspec": {
   "display_name": "Python 3",
   "language": "python",
   "name": "python3"
  },
  "language_info": {
   "codemirror_mode": {
    "name": "ipython",
    "version": 3
   },
   "file_extension": ".py",
   "mimetype": "text/x-python",
   "name": "python",
   "nbconvert_exporter": "python",
   "pygments_lexer": "ipython3",
   "version": "3.8.8"
  }
 },
 "nbformat": 4,
 "nbformat_minor": 5
}
