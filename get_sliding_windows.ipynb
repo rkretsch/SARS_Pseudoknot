{
 "cells": [
  {
   "cell_type": "code",
   "execution_count": 1,
   "id": "13951726",
   "metadata": {},
   "outputs": [],
   "source": [
    "# function will break a sequence up into multiple sliding windows\n",
    "# args - sequence name, start nucleotide, end nucleotide, size of each step, size of window\n",
    "# input: sequence\n",
    "# output: new txt file <sliding_windows_output.txt> containing a list of all the windows\n",
    "\n",
    "def get_sliding_windows_output(sequence_name, start, end, step, window):\n",
    "    windows = []\n",
    "    for i in range(start, end, step):\n",
    "        new_windows = sequence_name[i:i+window]\n",
    "        if len(new_windows) == window:\n",
    "            windows.append(new_windows)\n",
    "    windows_string = str(windows)\n",
    "    file = open(\"sliding_windows_output.txt\", \"w\")\n",
    "    file.writelines(windows_string)\n",
    "    file.close()"
   ]
  },
  {
   "cell_type": "code",
   "execution_count": 2,
   "id": "98e2ca1d",
   "metadata": {},
   "outputs": [],
   "source": [
    "# helper function to read fasta file into a sequence"
   ]
  },
  {
   "cell_type": "code",
   "execution_count": null,
   "id": "dc25e649",
   "metadata": {},
   "outputs": [],
   "source": []
  },
  {
   "cell_type": "code",
   "execution_count": null,
   "id": "992859b6",
   "metadata": {},
   "outputs": [],
   "source": []
  },
  {
   "cell_type": "code",
   "execution_count": 42,
   "id": "076dbbf6",
   "metadata": {},
   "outputs": [],
   "source": []
  },
  {
   "cell_type": "code",
   "execution_count": 50,
   "id": "90bcf991",
   "metadata": {},
   "outputs": [],
   "source": []
  },
  {
   "cell_type": "code",
   "execution_count": null,
   "id": "abfbc3fc",
   "metadata": {},
   "outputs": [],
   "source": []
  },
  {
   "cell_type": "code",
   "execution_count": null,
   "id": "5b4015d3",
   "metadata": {},
   "outputs": [],
   "source": []
  },
  {
   "cell_type": "code",
   "execution_count": null,
   "id": "4a44a0db",
   "metadata": {},
   "outputs": [],
   "source": []
  },
  {
   "cell_type": "code",
   "execution_count": null,
   "id": "c2aa1fd3",
   "metadata": {},
   "outputs": [],
   "source": []
  },
  {
   "cell_type": "code",
   "execution_count": 78,
   "id": "c22c3e31",
   "metadata": {},
   "outputs": [],
   "source": []
  },
  {
   "cell_type": "code",
   "execution_count": null,
   "id": "4b3a7ae4",
   "metadata": {},
   "outputs": [],
   "source": []
  },
  {
   "cell_type": "code",
   "execution_count": null,
   "id": "0114c982",
   "metadata": {},
   "outputs": [],
   "source": []
  }
 ],
 "metadata": {
  "kernelspec": {
   "display_name": "Python 3",
   "language": "python",
   "name": "python3"
  },
  "language_info": {
   "codemirror_mode": {
    "name": "ipython",
    "version": 3
   },
   "file_extension": ".py",
   "mimetype": "text/x-python",
   "name": "python",
   "nbconvert_exporter": "python",
   "pygments_lexer": "ipython3",
   "version": "3.8.8"
  }
 },
 "nbformat": 4,
 "nbformat_minor": 5
}
